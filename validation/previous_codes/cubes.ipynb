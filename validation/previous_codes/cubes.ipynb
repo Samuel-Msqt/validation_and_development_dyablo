{
 "cells": [
  {
   "cell_type": "code",
   "execution_count": 1,
   "metadata": {},
   "outputs": [],
   "source": [
    "import numpy as np\n",
    "import matplotlib.pyplot as plt\n",
    "from configparser import ConfigParser\n",
    "from CosmoUtils import *\n",
    "import h5py\n"
   ]
  },
  {
   "cell_type": "code",
   "execution_count": 2,
   "metadata": {},
   "outputs": [],
   "source": [
    "prefix='/home/dominique.aubert/dev-units/dyablo-units/run/stage/cosmo'"
   ]
  },
  {
   "cell_type": "code",
   "execution_count": 3,
   "metadata": {},
   "outputs": [],
   "source": [
    "isnap=2850"
   ]
  },
  {
   "cell_type": "code",
   "execution_count": 4,
   "metadata": {},
   "outputs": [
    {
     "name": "stdout",
     "output_type": "stream",
     "text": [
      "['coordinates', 'mass', 'vx', 'vy', 'vz']\n",
      "16777216\n",
      "1.0\n"
     ]
    }
   ],
   "source": [
    "nb_iter, zsnap = [\"0002850\",0.0]\n",
    "\n",
    "filename = f\"cosmo_particles_particles_iter{nb_iter}.h5\"\n",
    "\n",
    "fpart = h5py.File(f'datastageM2/{filename}', 'r')\n",
    "print([key for key in fpart.keys()])\n",
    "positions = np.array(fpart['coordinates'])\n",
    "Npart=np.shape(positions)[0]\n",
    "print(Npart)\n",
    "if(np.max(positions)>10.0):\n",
    "    positions = positions #/ (Lbox*3.085677e22)\n",
    "print(np.max(positions))"
   ]
  },
  {
   "cell_type": "code",
   "execution_count": 5,
   "metadata": {},
   "outputs": [
    {
     "name": "stdout",
     "output_type": "stream",
     "text": [
      "avg rho 4096.0\n",
      "16777216.0\n"
     ]
    },
    {
     "data": {
      "text/plain": [
       "<matplotlib.image.AxesImage at 0x7ff68895c9d0>"
      ]
     },
     "execution_count": 5,
     "metadata": {},
     "output_type": "execute_result"
    },
    {
     "data": {
      "image/png": "[encoded data removed]",
      "text/plain": [
       "<Figure size 640x480 with 1 Axes>"
      ]
     },
     "metadata": {},
     "output_type": "display_data"
    }
   ],
   "source": [
    "NC=16 # the grid sampling of the CIC density estimate\n",
    "deltadm,_=part2cic(positions,NC) # returns the density contrast\n",
    "plt.figure()\n",
    "plt.imshow(np.log10(np.sum(deltadm+1,axis=2)),cmap='Greys')"
   ]
  },
  {
   "cell_type": "code",
   "execution_count": 6,
   "metadata": {},
   "outputs": [
    {
     "data": {
      "text/plain": [
       "<matplotlib.image.AxesImage at 0x7ff6889ba710>"
      ]
     },
     "execution_count": 6,
     "metadata": {},
     "output_type": "execute_result"
    },
    {
     "data": {
      "image/png": "[encoded data removed]",
      "text/plain": [
       "<Figure size 640x480 with 1 Axes>"
      ]
     },
     "metadata": {},
     "output_type": "display_data"
    }
   ],
   "source": [
    "bin=np.linspace(0,1,NC+1)\n",
    "dbis,bb=np.histogramdd(positions,bins=(bin,bin,bin))\n",
    "deltadmbis=dbis/np.average(dbis)-1\n",
    "plt.imshow(np.log10(np.sum(deltadmbis+1,axis=2)),cmap='Greys')"
   ]
  },
  {
   "cell_type": "code",
   "execution_count": 10,
   "metadata": {},
   "outputs": [
    {
     "name": "stderr",
     "output_type": "stream",
     "text": [
      " 38%|███▊      | 6/16 [06:11<10:18, 61.89s/it]\n"
     ]
    },
    {
     "ename": "KeyboardInterrupt",
     "evalue": "",
     "output_type": "error",
     "traceback": [
      "\u001b[0;31m---------------------------------------------------------------------------\u001b[0m",
      "\u001b[0;31mKeyboardInterrupt\u001b[0m                         Traceback (most recent call last)",
      "Cell \u001b[0;32mIn[10], line 13\u001b[0m\n\u001b[1;32m     11\u001b[0m kmin\u001b[38;5;241m=\u001b[39mk\u001b[38;5;241m*\u001b[39mdc\n\u001b[1;32m     12\u001b[0m kmax\u001b[38;5;241m=\u001b[39m(k\u001b[38;5;241m+\u001b[39m\u001b[38;5;241m1\u001b[39m)\u001b[38;5;241m*\u001b[39mdc\n\u001b[0;32m---> 13\u001b[0m w\u001b[38;5;241m=\u001b[39m\u001b[43mnp\u001b[49m\u001b[38;5;241;43m.\u001b[39;49m\u001b[43mwhere\u001b[49m\u001b[43m(\u001b[49m\u001b[43m(\u001b[49m\u001b[43mpositions\u001b[49m\u001b[43m[\u001b[49m\u001b[43m:\u001b[49m\u001b[43m,\u001b[49m\u001b[38;5;241;43m0\u001b[39;49m\u001b[43m]\u001b[49m\u001b[38;5;241;43m>\u001b[39;49m\u001b[38;5;241;43m=\u001b[39;49m\u001b[43mimin\u001b[49m\u001b[43m)\u001b[49m\u001b[38;5;241;43m*\u001b[39;49m\u001b[43m(\u001b[49m\u001b[43mpositions\u001b[49m\u001b[43m[\u001b[49m\u001b[43m:\u001b[49m\u001b[43m,\u001b[49m\u001b[38;5;241;43m0\u001b[39;49m\u001b[43m]\u001b[49m\u001b[38;5;241;43m<\u001b[39;49m\u001b[43mimax\u001b[49m\u001b[43m)\u001b[49m\u001b[38;5;241;43m*\u001b[39;49m\u001b[43m(\u001b[49m\u001b[43mpositions\u001b[49m\u001b[43m[\u001b[49m\u001b[43m:\u001b[49m\u001b[43m,\u001b[49m\u001b[38;5;241;43m1\u001b[39;49m\u001b[43m]\u001b[49m\u001b[38;5;241;43m>\u001b[39;49m\u001b[38;5;241;43m=\u001b[39;49m\u001b[43mjmin\u001b[49m\u001b[43m)\u001b[49m\u001b[38;5;241;43m*\u001b[39;49m\u001b[43m(\u001b[49m\u001b[43mpositions\u001b[49m\u001b[43m[\u001b[49m\u001b[43m:\u001b[49m\u001b[43m,\u001b[49m\u001b[38;5;241;43m1\u001b[39;49m\u001b[43m]\u001b[49m\u001b[38;5;241;43m<\u001b[39;49m\u001b[43mjmax\u001b[49m\u001b[43m)\u001b[49m\u001b[38;5;241;43m*\u001b[39;49m\u001b[43m(\u001b[49m\u001b[43mpositions\u001b[49m\u001b[43m[\u001b[49m\u001b[43m:\u001b[49m\u001b[43m,\u001b[49m\u001b[38;5;241;43m2\u001b[39;49m\u001b[43m]\u001b[49m\u001b[38;5;241;43m>\u001b[39;49m\u001b[38;5;241;43m=\u001b[39;49m\u001b[43mkmin\u001b[49m\u001b[43m)\u001b[49m\u001b[38;5;241;43m*\u001b[39;49m\u001b[43m(\u001b[49m\u001b[43mpositions\u001b[49m\u001b[43m[\u001b[49m\u001b[43m:\u001b[49m\u001b[43m,\u001b[49m\u001b[38;5;241;43m2\u001b[39;49m\u001b[43m]\u001b[49m\u001b[38;5;241;43m<\u001b[39;49m\u001b[43mkmax\u001b[49m\u001b[43m)\u001b[49m\u001b[43m)\u001b[49m\n\u001b[1;32m     14\u001b[0m nc\u001b[38;5;241m=\u001b[39mnp\u001b[38;5;241m.\u001b[39msize(w)\n\u001b[1;32m     15\u001b[0m \u001b[38;5;66;03m# print(i,j,k,nc)\u001b[39;00m\n",
      "File \u001b[0;32m<__array_function__ internals>:177\u001b[0m, in \u001b[0;36mwhere\u001b[0;34m(*args, **kwargs)\u001b[0m\n",
      "\u001b[0;31mKeyboardInterrupt\u001b[0m: "
     ]
    }
   ],
   "source": [
    "from tqdm import tqdm\n",
    "dcube=np.zeros((NC,NC,NC))\n",
    "dc=1./NC\n",
    "for i in tqdm(range(NC)):\n",
    "    imin=i*dc\n",
    "    imax=(i+1)*dc\n",
    "    for j in range(NC):\n",
    "        jmin=j*dc\n",
    "        jmax=(j+1)*dc\n",
    "        for k in range(NC):\n",
    "            kmin=k*dc\n",
    "            kmax=(k+1)*dc\n",
    "            w=np.where((positions[:,0]>=imin)*(positions[:,0]<imax)*(positions[:,1]>=jmin)*(positions[:,1]<jmax)*(positions[:,2]>=kmin)*(positions[:,2]<kmax))\n",
    "            nc=np.size(w)\n",
    "            # print(i,j,k,nc)\n",
    "\n",
    "            dcube[i,j,k]=nc\n",
    "\n",
    "print(np.sum(dcube))\n"
   ]
  },
  {
   "cell_type": "code",
   "execution_count": null,
   "metadata": {},
   "outputs": [],
   "source": [
    "deltadcube=dcube/np.average(dcube)-1.0"
   ]
  },
  {
   "cell_type": "code",
   "execution_count": null,
   "metadata": {},
   "outputs": [],
   "source": [
    "bin=np.linspace(-1,3,num=128)\n",
    "bcen=0.5*(bin[1:]+bin[:-1])\n",
    "hcic,bcic=np.histogram(deltadm,bins=bin)\n",
    "hngp,bngp=np.histogram(deltadmbis,bins=bin)\n",
    "#hcube,bcube=np.histogram(deltadcube,bins=bin)\n",
    "\n",
    "\n",
    "plt.figure()\n",
    "plt.plot(bcen,hcic,label='cic')\n",
    "plt.plot(bcen,hngp,label='ngp')\n",
    "#plt.plot(bcen,hcube,'o',label='cubes')\n",
    "#plt.yscale('log')\n",
    "plt.legend()"
   ]
  },
  {
   "cell_type": "code",
   "execution_count": null,
   "metadata": {},
   "outputs": [],
   "source": []
  }
 ],
 "metadata": {
  "kernelspec": {
   "display_name": "Python 3",
   "language": "python",
   "name": "python3"
  },
  "language_info": {
   "codemirror_mode": {
    "name": "ipython",
    "version": 3
   },
   "file_extension": ".py",
   "mimetype": "text/x-python",
   "name": "python",
   "nbconvert_exporter": "python",
   "pygments_lexer": "ipython3",
   "version": "3.10.12"
  }
 },
 "nbformat": 4,
 "nbformat_minor": 2
}
