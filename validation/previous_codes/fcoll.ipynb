{
 "cells": [
  {
   "cell_type": "code",
   "execution_count": 1,
   "metadata": {},
   "outputs": [],
   "source": [
    "import numpy as np\n",
    "import matplotlib.pyplot as plt\n",
    "import matplotlib.cm as cm\n",
    "\n",
    "import my_hmf_cmf_lib as mycmf"
   ]
  },
  {
   "cell_type": "code",
   "execution_count": 2,
   "metadata": {},
   "outputs": [],
   "source": [
    "plt.style.use('stylesheet.mplstyle')"
   ]
  },
  {
   "cell_type": "code",
   "execution_count": 3,
   "metadata": {},
   "outputs": [],
   "source": [
    "z = 0.0\n",
    "# z = 9.48\n",
    "H0 = mycmf.H0\n",
    "h = mycmf.h"
   ]
  },
  {
   "cell_type": "code",
   "execution_count": 4,
   "metadata": {},
   "outputs": [],
   "source": [
    "rho_c = 3*H0**2 / (8 * np.pi * mycmf.G)\n",
    "rho_0 = mycmf.rho_0\n",
    "dc = (rho_c-rho_0)/rho_0"
   ]
  },
  {
   "cell_type": "code",
   "execution_count": 5,
   "metadata": {},
   "outputs": [
    {
     "data": {
      "text/plain": [
       "8033506816411.374"
      ]
     },
     "execution_count": 5,
     "metadata": {},
     "output_type": "execute_result"
    }
   ],
   "source": [
    "rho_c"
   ]
  },
  {
   "cell_type": "code",
   "execution_count": 6,
   "metadata": {},
   "outputs": [
    {
     "name": "stdout",
     "output_type": "stream",
     "text": [
      "rho_c = 8.034e+12 M_sun/Mpc^3\n",
      "rho_0 = 2.678e-27 M_sun/Mpc^3\n"
     ]
    }
   ],
   "source": [
    "print(f\"rho_c = {rho_c:.3e} M_sun/Mpc^3\")\n",
    "print(f\"rho_0 = {rho_0:.3e} M_sun/Mpc^3\")"
   ]
  },
  {
   "cell_type": "code",
   "execution_count": 7,
   "metadata": {},
   "outputs": [
    {
     "name": "stdout",
     "output_type": "stream",
     "text": [
      "Note: redshifts have been re-sorted (earliest first)\n"
     ]
    }
   ],
   "source": [
    "pars,results,s8_fid = mycmf.compute_init_power_spectrum(z, mycmf.H0, mycmf.TCMB, mycmf.om, mycmf.ob, mycmf.h, mycmf.ns, mycmf.As)"
   ]
  },
  {
   "cell_type": "code",
   "execution_count": 8,
   "metadata": {},
   "outputs": [
    {
     "name": "stdout",
     "output_type": "stream",
     "text": [
      "Note: redshifts have been re-sorted (earliest first)\n"
     ]
    }
   ],
   "source": [
    "kh, _, pk = mycmf.compute_matter_power_spectrum(z, pars, s8_fid)"
   ]
  },
  {
   "cell_type": "code",
   "execution_count": 9,
   "metadata": {},
   "outputs": [],
   "source": [
    "R0_mpc = 15.3 #Mpc \n",
    "R0 = R0_mpc*h #Mpc/h\n",
    "\n",
    "# Mregion = mycmf.R_to_M(R0) #M_sun/h \n",
    "\n",
    "Mmin = 1e12 #Msun/h\n",
    "\n",
    "M_list = np.logspace(11, 16, 500) #Msun/h\n",
    "\n",
    "\n",
    "delta_range = np.array([-0.4, -0.2, 0.0, 0.2, 0.4])\n",
    "delta_range = np.linspace(-0.85, 1.5, 10)"
   ]
  },
  {
   "cell_type": "code",
   "execution_count": 10,
   "metadata": {},
   "outputs": [
    {
     "name": "stdout",
     "output_type": "stream",
     "text": [
      "5.97e+13\n",
      "INDEX 0 | delta_NL -0.85 -------------------------\n",
      "Mmin 1.00e+12 | Mregion 5.97e+13 | R0=10.25 | delta_L -3.60, delta_NL -0.85\n",
      "Value found for cST : 1.23e-03\n",
      "\n",
      "1.64e+14\n",
      "INDEX 1 | delta_NL -0.5888888888888888 -------------------------\n",
      "Mmin 1.00e+12 | Mregion 1.64e+14 | R0=10.25 | delta_L -1.18, delta_NL -0.59\n",
      "Value found for cST : 6.82e-02\n",
      "\n",
      "2.67e+14\n",
      "INDEX 2 | delta_NL -0.3277777777777777 -------------------------\n",
      "Mmin 1.00e+12 | Mregion 2.67e+14 | R0=10.25 | delta_L -0.45, delta_NL -0.33\n",
      "Value found for cST : 1.60e-01\n",
      "\n",
      "3.71e+14\n",
      "INDEX 3 | delta_NL -0.06666666666666654 -------------------------\n",
      "Mmin 1.00e+12 | Mregion 3.71e+14 | R0=10.25 | delta_L -0.07, delta_NL -0.07\n",
      "Value found for cST : 2.35e-01\n",
      "\n",
      "4.75e+14\n",
      "INDEX 4 | delta_NL 0.19444444444444453 -------------------------\n",
      "Mmin 1.00e+12 | Mregion 4.75e+14 | R0=10.25 | delta_L 0.17, delta_NL 0.19\n",
      "Value found for cST : 2.96e-01\n",
      "\n",
      "5.79e+14\n",
      "INDEX 5 | delta_NL 0.4555555555555556 -------------------------\n",
      "Mmin 1.00e+12 | Mregion 5.79e+14 | R0=10.25 | delta_L 0.34, delta_NL 0.46\n",
      "Value found for cST : 3.44e-01\n",
      "\n",
      "6.83e+14\n",
      "INDEX 6 | delta_NL 0.7166666666666669 -------------------------\n",
      "Mmin 1.00e+12 | Mregion 6.83e+14 | R0=10.25 | delta_L 0.46, delta_NL 0.72\n",
      "Value found for cST : 3.85e-01\n",
      "\n",
      "7.87e+14\n",
      "INDEX 7 | delta_NL 0.977777777777778 -------------------------\n",
      "Mmin 1.00e+12 | Mregion 7.87e+14 | R0=10.25 | delta_L 0.56, delta_NL 0.98\n",
      "Value found for cST : 4.19e-01\n",
      "\n",
      "8.91e+14\n",
      "INDEX 8 | delta_NL 1.238888888888889 -------------------------\n",
      "Mmin 1.00e+12 | Mregion 8.91e+14 | R0=10.25 | delta_L 0.64, delta_NL 1.24\n",
      "Value found for cST : 4.49e-01\n",
      "\n",
      "9.94e+14\n",
      "INDEX 9 | delta_NL 1.5 -------------------------\n",
      "Mmin 1.00e+12 | Mregion 9.94e+14 | R0=10.25 | delta_L 0.70, delta_NL 1.50\n",
      "Value found for cST : 4.75e-01\n",
      "\n"
     ]
    }
   ],
   "source": [
    "fcoll_EPS_results, fcoll_cST_results, fcoll_EPS_analytical, fcoll_cST_analytical = [], [], [], []\n",
    "\n",
    "for idx, delta_NL in enumerate(delta_range) :\n",
    "    delta_L = mycmf.compute_delta_linear(delta_NL)\n",
    "    Vreg = 4/3*np.pi*R0**3 # (Mpc/h)3\n",
    "    Mregion = mycmf.rho_0_h2_Msun_Mpc3 * Vreg * (1+delta_NL)\n",
    "    print(f\"{Mregion:.2e}\")\n",
    "    print(f\"INDEX {idx} | delta_NL {delta_NL} -------------------------\")\n",
    "    print(f\"Mmin {Mmin:.2e} | Mregion {Mregion:.2e} | R0={R0:.2f} | delta_L {delta_L:.2f}, delta_NL {delta_NL:.2f}\")\n",
    "    \n",
    "    # print(\"Computing fcoll_EPS num...\")\n",
    "    fcoll_EPS_val = mycmf.fcoll(Mmin, Mregion, kh, pk, R0, delta_L, delta_NL, \"QEPS\")\n",
    "    fcoll_EPS_results.append(fcoll_EPS_val)\n",
    "\n",
    "    # print(\"Computing fcoll_EPS cST...\")\n",
    "    fcoll_cST_val = mycmf.fcoll(Mmin, Mregion, kh, pk, R0, delta_L, delta_NL, \"QcST\")\n",
    "    fcoll_cST_results.append(fcoll_cST_val)\n",
    "    print(f\"Value found for cST : {fcoll_cST_val:.2e}\")\n",
    "    \n",
    "    # print(\"Computing fcoll_EPS ana...\")\n",
    "    fcoll_ana = mycmf.fcoll_EPS(Mmin, kh, pk, R0, delta_L, delta_NL)\n",
    "    fcoll_EPS_analytical.append(fcoll_ana)\n",
    "\n",
    "    # print(\"Computing fcoll_ST ana...\")\n",
    "    fcoll_ST_val = mycmf.fcoll_ST(Mmin, kh, pk, R0, delta_L, delta_NL)\n",
    "    fcoll_cST_analytical.append(fcoll_ST_val)\n",
    "    print(\"\")"
   ]
  },
  {
   "cell_type": "code",
   "execution_count": 11,
   "metadata": {},
   "outputs": [
    {
     "data": {
      "image/png": "[encoded data removed]",
      "text/plain": [
       "<Figure size 800x600 with 1 Axes>"
      ]
     },
     "metadata": {},
     "output_type": "display_data"
    }
   ],
   "source": [
    "plt.figure(figsize=(8, 6))\n",
    "\n",
    "plt.scatter(delta_range, fcoll_cST_results, label=\"cST numerically integrated\", marker=\"^\", alpha=1, s=75) \n",
    "plt.scatter(delta_range, fcoll_EPS_results, label=\"EPS numerically integrated\", marker=\"s\", alpha=1, s=75) \n",
    "plt.scatter(delta_range, fcoll_EPS_analytical, label=\"EPS analytical expression\", marker=\"o\", alpha=1, color=\"red\")  \n",
    "plt.scatter(delta_range, fcoll_cST_analytical, label=\"cST analytical expression\", marker=\"x\", alpha=1)\n",
    "\n",
    "plt.title(f\"Collapsed fraction for different models and overdensities - $R_0$={R0_mpc} Mpc\")\n",
    "plt.xlabel('Overdensity $\\delta_0$')\n",
    "plt.ylabel('Collapsed fraction $f_{coll}$')\n",
    "plt.legend()\n",
    "plt.show()"
   ]
  },
  {
   "cell_type": "markdown",
   "metadata": {},
   "source": [
    "# testing sigma(R) for different redshift"
   ]
  },
  {
   "cell_type": "code",
   "execution_count": 12,
   "metadata": {},
   "outputs": [],
   "source": [
    "# R_list = np.linspace(0.1, 40, 1000) #Mpc/h\n",
    "\n",
    "# kh_results, pk_results = [], []\n",
    "# sigma_res = []\n",
    "\n",
    "# for idx, z in enumerate([0.0, 1.0, 2.0, 5.0, 10.0, 25.0]) :\n",
    "#     #compute the power spectrum for a given redshift\n",
    "#     kh, _, pk = mycmf.compute_matter_power_spectrum(z, pars, s8_fid)\n",
    "#     #and store it for later use\n",
    "#     kh_results.append(kh)\n",
    "#     pk_results.append(pk)\n",
    "    \n",
    "#     sigma_res.append([mycmf.compute_sig_camb(R_list[i], kh_results[-1], pk_results[-1]) for i in range(len(R_list))])"
   ]
  },
  {
   "cell_type": "code",
   "execution_count": 13,
   "metadata": {},
   "outputs": [],
   "source": [
    "# for idx, z in enumerate([0.0, 1.0, 2.0, 5, 10.0, 25.0]) :\n",
    "#     plt.plot(R_list, sigma_res[idx], label=f\"z={z}\", alpha=1)\n",
    "# plt.xscale('log')\n",
    "# plt.yscale('log')\n",
    "\n",
    "# plt.legend()\n",
    "# plt.xlabel('R [Mpc/h]')\n",
    "# plt.ylabel('$\\sigma(R)$')\n",
    "# plt.show()"
   ]
  },
  {
   "cell_type": "code",
   "execution_count": null,
   "metadata": {},
   "outputs": [],
   "source": []
  },
  {
   "cell_type": "code",
   "execution_count": null,
   "metadata": {},
   "outputs": [],
   "source": []
  }
 ],
 "metadata": {
  "kernelspec": {
   "display_name": "Python 3",
   "language": "python",
   "name": "python3"
  },
  "language_info": {
   "codemirror_mode": {
    "name": "ipython",
    "version": 3
   },
   "file_extension": ".py",
   "mimetype": "text/x-python",
   "name": "python",
   "nbconvert_exporter": "python",
   "pygments_lexer": "ipython3",
   "version": "3.10.12"
  }
 },
 "nbformat": 4,
 "nbformat_minor": 2
}
